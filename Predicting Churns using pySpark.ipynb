{
 "cells": [
  {
   "cell_type": "markdown",
   "metadata": {},
   "source": [
    "## Hands On Binary Customer Churn Evaluator\n",
    "\n",
    "A marketing agency has many customers that use their service to produce ads for the client/customer websites. They've noticed that they have quite a bit of churn in clients. They basically randomly assign account managers right now, but want you to create a machine learning model that will help predict which customers will churn (stop buying their service) so that they can correctly assign the customers most at risk to churn an account manager. Luckily they have some historical data, can you help them out? Create a classification algorithm that will help classify whether or not a customer churned. Then the company can test this against incoming data for future customers to predict which customers will churn and assign them an account manager.\n",
    "\n",
    "The data is saved as customer_churn.csv. Here are the fields and their definitions:\n",
    "\n",
    "    Name : Name of the latest contact at Company\n",
    "    Age: Customer Age\n",
    "    Total_Purchase: Total Ads Purchased\n",
    "    Account_Manager: Binary 0=No manager, 1= Account manager assigned\n",
    "    Years: Totaly Years as a customer\n",
    "    Num_sites: Number of websites that use the service.\n",
    "    Onboard_date: Date that the name of the latest contact was onboarded\n",
    "    Location: Client HQ Address\n",
    "    Company: Name of Client Company\n",
    "    \n",
    "Once you've created the model and evaluated it, test out the model on some new data (you can think of this almost like a hold-out set) that your client has provided, saved under new_customers.csv. The client wants to know which customers are most likely to churn given this data (they don't have the label yet)."
   ]
  },
  {
   "cell_type": "code",
   "execution_count": 1,
   "metadata": {},
   "outputs": [],
   "source": [
    "import findspark\n",
    "findspark.init('/home/ubuntu/spark-2.1.1-bin-hadoop2.7')\n",
    "import pyspark\n",
    "from pyspark.sql import SparkSession\n",
    "spark = SparkSession.builder.appName('Churn').getOrCreate()"
   ]
  },
  {
   "cell_type": "code",
   "execution_count": 2,
   "metadata": {},
   "outputs": [],
   "source": [
    "from pyspark.ml.classification import LogisticRegression"
   ]
  },
  {
   "cell_type": "code",
   "execution_count": 3,
   "metadata": {},
   "outputs": [],
   "source": [
    "df = spark.read.csv('customer_churn.csv',inferSchema=True,header=True)"
   ]
  },
  {
   "cell_type": "code",
   "execution_count": 4,
   "metadata": {},
   "outputs": [
    {
     "name": "stdout",
     "output_type": "stream",
     "text": [
      "root\n",
      " |-- Names: string (nullable = true)\n",
      " |-- Age: integer (nullable = true)\n",
      " |-- Total_Purchase: double (nullable = true)\n",
      " |-- Account_Manager: integer (nullable = true)\n",
      " |-- Years: double (nullable = true)\n",
      " |-- Num_Sites: integer (nullable = true)\n",
      " |-- Onboard_date: string (nullable = true)\n",
      " |-- Location: string (nullable = true)\n",
      " |-- Company: string (nullable = true)\n",
      " |-- Churn: integer (nullable = true)\n",
      "\n"
     ]
    }
   ],
   "source": [
    "df.printSchema()"
   ]
  },
  {
   "cell_type": "code",
   "execution_count": 5,
   "metadata": {},
   "outputs": [
    {
     "data": {
      "text/plain": [
       "['Names',\n",
       " 'Age',\n",
       " 'Total_Purchase',\n",
       " 'Account_Manager',\n",
       " 'Years',\n",
       " 'Num_Sites',\n",
       " 'Onboard_date',\n",
       " 'Location',\n",
       " 'Company',\n",
       " 'Churn']"
      ]
     },
     "execution_count": 5,
     "metadata": {},
     "output_type": "execute_result"
    }
   ],
   "source": [
    "df.columns"
   ]
  },
  {
   "cell_type": "code",
   "execution_count": 6,
   "metadata": {},
   "outputs": [],
   "source": [
    "from pyspark.ml.feature import VectorAssembler"
   ]
  },
  {
   "cell_type": "code",
   "execution_count": 7,
   "metadata": {},
   "outputs": [],
   "source": [
    "assembler = VectorAssembler(inputCols=['Age',\n",
    " 'Total_Purchase',\n",
    " 'Account_Manager',\n",
    " 'Years',\n",
    " 'Num_Sites'],outputCol='features')"
   ]
  },
  {
   "cell_type": "code",
   "execution_count": 8,
   "metadata": {},
   "outputs": [],
   "source": [
    "output = assembler.transform(df)"
   ]
  },
  {
   "cell_type": "code",
   "execution_count": 9,
   "metadata": {},
   "outputs": [],
   "source": [
    "final_data = output.select('features','churn')"
   ]
  },
  {
   "cell_type": "code",
   "execution_count": 10,
   "metadata": {},
   "outputs": [
    {
     "name": "stdout",
     "output_type": "stream",
     "text": [
      "+--------------------+-----+\n",
      "|            features|churn|\n",
      "+--------------------+-----+\n",
      "|[42.0,11066.8,0.0...|    1|\n",
      "|[41.0,11916.22,0....|    1|\n",
      "|[38.0,12884.75,0....|    1|\n",
      "|[42.0,8010.76,0.0...|    1|\n",
      "|[37.0,9191.58,0.0...|    1|\n",
      "|[48.0,10356.02,0....|    1|\n",
      "|[44.0,11331.58,1....|    1|\n",
      "|[32.0,9885.12,1.0...|    1|\n",
      "|[43.0,14062.6,1.0...|    1|\n",
      "|[40.0,8066.94,1.0...|    1|\n",
      "|[30.0,11575.37,1....|    1|\n",
      "|[45.0,8771.02,1.0...|    1|\n",
      "|[45.0,8988.67,1.0...|    1|\n",
      "|[40.0,8283.32,1.0...|    1|\n",
      "|[41.0,6569.87,1.0...|    1|\n",
      "|[38.0,10494.82,1....|    1|\n",
      "|[45.0,8213.41,1.0...|    1|\n",
      "|[43.0,11226.88,0....|    1|\n",
      "|[53.0,5515.09,0.0...|    1|\n",
      "|[46.0,8046.4,1.0,...|    1|\n",
      "+--------------------+-----+\n",
      "only showing top 20 rows\n",
      "\n"
     ]
    }
   ],
   "source": [
    "final_data.show()"
   ]
  },
  {
   "cell_type": "code",
   "execution_count": 11,
   "metadata": {},
   "outputs": [],
   "source": [
    "train_churn,test_churn = final_data.randomSplit([0.7,0.3])"
   ]
  },
  {
   "cell_type": "code",
   "execution_count": 12,
   "metadata": {},
   "outputs": [],
   "source": [
    "lr_churn = LogisticRegression(featuresCol = 'features',labelCol='churn')"
   ]
  },
  {
   "cell_type": "code",
   "execution_count": 13,
   "metadata": {},
   "outputs": [],
   "source": [
    "fitted_churn_model = lr_churn.fit(train_churn)"
   ]
  },
  {
   "cell_type": "code",
   "execution_count": 14,
   "metadata": {},
   "outputs": [],
   "source": [
    "training_sum = fitted_churn_model.summary"
   ]
  },
  {
   "cell_type": "markdown",
   "metadata": {},
   "source": [
    "### Evaluate results\n",
    "\n",
    "Let's evaluate the results on the data set we were given (using the test data)"
   ]
  },
  {
   "cell_type": "code",
   "execution_count": 15,
   "metadata": {},
   "outputs": [],
   "source": [
    "from pyspark.ml.evaluation import BinaryClassificationEvaluator"
   ]
  },
  {
   "cell_type": "code",
   "execution_count": 16,
   "metadata": {},
   "outputs": [],
   "source": [
    "pred_and_labels = fitted_churn_model.evaluate(test_churn)"
   ]
  },
  {
   "cell_type": "code",
   "execution_count": 17,
   "metadata": {},
   "outputs": [
    {
     "name": "stdout",
     "output_type": "stream",
     "text": [
      "+--------------------+-----+--------------------+--------------------+----------+\n",
      "|            features|churn|       rawPrediction|         probability|prediction|\n",
      "+--------------------+-----+--------------------+--------------------+----------+\n",
      "|[25.0,9672.03,0.0...|    0|[5.05841124630744...|[0.99368449010769...|       0.0|\n",
      "|[26.0,8939.61,0.0...|    0|[6.91156995401764...|[0.99900479882044...|       0.0|\n",
      "|[29.0,11274.46,1....|    0|[4.53849032838387...|[0.98942352550175...|       0.0|\n",
      "|[29.0,13255.05,1....|    0|[4.12137840698117...|[0.98403681862119...|       0.0|\n",
      "|[30.0,8403.78,1.0...|    0|[6.22071553404564...|[0.99801612124483...|       0.0|\n",
      "|[30.0,10183.98,1....|    0|[2.85332332186408...|[0.94549021549883...|       0.0|\n",
      "|[30.0,10960.52,1....|    0|[2.34321738025276...|[0.91239359672031...|       0.0|\n",
      "|[30.0,12788.37,0....|    0|[2.47294106542299...|[0.92222298301907...|       0.0|\n",
      "|[30.0,13473.35,0....|    0|[2.66953173430184...|[0.93520466172441...|       0.0|\n",
      "|[31.0,5304.6,0.0,...|    0|[3.85266386692615...|[0.97921793488798...|       0.0|\n",
      "|[31.0,8688.21,0.0...|    0|[7.16162808894621...|[0.99922481091571...|       0.0|\n",
      "|[32.0,8011.38,0.0...|    0|[2.19781000834852...|[0.90005267645423...|       0.0|\n",
      "|[32.0,8617.98,1.0...|    1|[0.96055079114066...|[0.72323206913345...|       0.0|\n",
      "|[32.0,9472.72,1.0...|    0|[3.70551680963862...|[0.97600253091672...|       0.0|\n",
      "|[32.0,11715.72,0....|    0|[3.55437987748746...|[0.97219606331997...|       0.0|\n",
      "|[32.0,12254.75,1....|    0|[2.46371881617762...|[0.92155891071828...|       0.0|\n",
      "|[33.0,5738.82,0.0...|    0|[5.08448128503942...|[0.99384600793177...|       0.0|\n",
      "|[33.0,8556.73,0.0...|    0|[4.04560625550146...|[0.98280185933643...|       0.0|\n",
      "|[33.0,10306.21,1....|    0|[2.00712021078293...|[0.88154262983093...|       0.0|\n",
      "|[33.0,12115.91,1....|    0|[2.31968339942752...|[0.91049414279546...|       0.0|\n",
      "+--------------------+-----+--------------------+--------------------+----------+\n",
      "only showing top 20 rows\n",
      "\n"
     ]
    }
   ],
   "source": [
    "pred_and_labels.predictions.show()"
   ]
  },
  {
   "cell_type": "markdown",
   "metadata": {},
   "source": [
    "### Using AUC"
   ]
  },
  {
   "cell_type": "code",
   "execution_count": 18,
   "metadata": {},
   "outputs": [],
   "source": [
    "churn_eval = BinaryClassificationEvaluator(rawPredictionCol='prediction',\n",
    "                                           labelCol='churn')"
   ]
  },
  {
   "cell_type": "code",
   "execution_count": 19,
   "metadata": {},
   "outputs": [],
   "source": [
    "auc = churn_eval.evaluate(pred_and_labels.predictions)"
   ]
  },
  {
   "cell_type": "code",
   "execution_count": 20,
   "metadata": {},
   "outputs": [
    {
     "data": {
      "text/plain": [
       "0.8001610305958132"
      ]
     },
     "execution_count": 20,
     "metadata": {},
     "output_type": "execute_result"
    }
   ],
   "source": [
    "auc"
   ]
  },
  {
   "cell_type": "code",
   "execution_count": 21,
   "metadata": {},
   "outputs": [
    {
     "data": {
      "text/plain": [
       "pyspark.ml.classification.BinaryLogisticRegressionSummary"
      ]
     },
     "execution_count": 21,
     "metadata": {},
     "output_type": "execute_result"
    }
   ],
   "source": [
    "type(pred_and_labels)"
   ]
  },
  {
   "cell_type": "code",
   "execution_count": 22,
   "metadata": {},
   "outputs": [],
   "source": [
    "from sklearn.metrics import roc_curve, roc_auc_score"
   ]
  },
  {
   "cell_type": "code",
   "execution_count": 23,
   "metadata": {},
   "outputs": [],
   "source": [
    "test_lr_model = fitted_churn_model.transform(test_churn)"
   ]
  },
  {
   "cell_type": "code",
   "execution_count": 24,
   "metadata": {},
   "outputs": [
    {
     "name": "stdout",
     "output_type": "stream",
     "text": [
      "+--------------------+-----+--------------------+--------------------+----------+\n",
      "|            features|churn|       rawPrediction|         probability|prediction|\n",
      "+--------------------+-----+--------------------+--------------------+----------+\n",
      "|[25.0,9672.03,0.0...|    0|[5.05841124630744...|[0.99368449010769...|       0.0|\n",
      "|[26.0,8939.61,0.0...|    0|[6.91156995401764...|[0.99900479882044...|       0.0|\n",
      "|[29.0,11274.46,1....|    0|[4.53849032838387...|[0.98942352550175...|       0.0|\n",
      "|[29.0,13255.05,1....|    0|[4.12137840698117...|[0.98403681862119...|       0.0|\n",
      "|[30.0,8403.78,1.0...|    0|[6.22071553404564...|[0.99801612124483...|       0.0|\n",
      "|[30.0,10183.98,1....|    0|[2.85332332186408...|[0.94549021549883...|       0.0|\n",
      "|[30.0,10960.52,1....|    0|[2.34321738025276...|[0.91239359672031...|       0.0|\n",
      "|[30.0,12788.37,0....|    0|[2.47294106542299...|[0.92222298301907...|       0.0|\n",
      "|[30.0,13473.35,0....|    0|[2.66953173430184...|[0.93520466172441...|       0.0|\n",
      "|[31.0,5304.6,0.0,...|    0|[3.85266386692615...|[0.97921793488798...|       0.0|\n",
      "|[31.0,8688.21,0.0...|    0|[7.16162808894621...|[0.99922481091571...|       0.0|\n",
      "|[32.0,8011.38,0.0...|    0|[2.19781000834852...|[0.90005267645423...|       0.0|\n",
      "|[32.0,8617.98,1.0...|    1|[0.96055079114066...|[0.72323206913345...|       0.0|\n",
      "|[32.0,9472.72,1.0...|    0|[3.70551680963862...|[0.97600253091672...|       0.0|\n",
      "|[32.0,11715.72,0....|    0|[3.55437987748746...|[0.97219606331997...|       0.0|\n",
      "|[32.0,12254.75,1....|    0|[2.46371881617762...|[0.92155891071828...|       0.0|\n",
      "|[33.0,5738.82,0.0...|    0|[5.08448128503942...|[0.99384600793177...|       0.0|\n",
      "|[33.0,8556.73,0.0...|    0|[4.04560625550146...|[0.98280185933643...|       0.0|\n",
      "|[33.0,10306.21,1....|    0|[2.00712021078293...|[0.88154262983093...|       0.0|\n",
      "|[33.0,12115.91,1....|    0|[2.31968339942752...|[0.91049414279546...|       0.0|\n",
      "+--------------------+-----+--------------------+--------------------+----------+\n",
      "only showing top 20 rows\n",
      "\n"
     ]
    }
   ],
   "source": [
    "test_lr_model.show()"
   ]
  },
  {
   "cell_type": "code",
   "execution_count": 25,
   "metadata": {},
   "outputs": [
    {
     "data": {
      "text/plain": [
       "pyspark.sql.dataframe.DataFrame"
      ]
     },
     "execution_count": 25,
     "metadata": {},
     "output_type": "execute_result"
    }
   ],
   "source": [
    "type(test_lr_model)"
   ]
  },
  {
   "cell_type": "code",
   "execution_count": 26,
   "metadata": {},
   "outputs": [],
   "source": [
    "dfg = test_lr_model.toPandas()"
   ]
  },
  {
   "cell_type": "code",
   "execution_count": 27,
   "metadata": {},
   "outputs": [],
   "source": [
    "import matplotlib.pyplot as plt\n",
    "import seaborn as sns"
   ]
  },
  {
   "cell_type": "code",
   "execution_count": 30,
   "metadata": {},
   "outputs": [],
   "source": [
    "import numpy as np"
   ]
  },
  {
   "cell_type": "code",
   "execution_count": 34,
   "metadata": {},
   "outputs": [
    {
     "data": {
      "text/plain": [
       "pandas.core.frame.DataFrame"
      ]
     },
     "execution_count": 34,
     "metadata": {},
     "output_type": "execute_result"
    }
   ],
   "source": [
    "type(dfg)"
   ]
  },
  {
   "cell_type": "code",
   "execution_count": 35,
   "metadata": {},
   "outputs": [],
   "source": [
    "AUROC = roc_auc_score(dfg['churn'],dfg['prediction'])"
   ]
  },
  {
   "cell_type": "code",
   "execution_count": 36,
   "metadata": {},
   "outputs": [
    {
     "data": {
      "text/plain": [
       "0.8001610305958132"
      ]
     },
     "execution_count": 36,
     "metadata": {},
     "output_type": "execute_result"
    }
   ],
   "source": [
    "AUROC"
   ]
  },
  {
   "cell_type": "code",
   "execution_count": 37,
   "metadata": {},
   "outputs": [],
   "source": [
    "fpr,tpr,thresholds = roc_curve(dfg['churn'],dfg['prediction'])"
   ]
  },
  {
   "cell_type": "code",
   "execution_count": 38,
   "metadata": {},
   "outputs": [
    {
     "data": {
      "text/plain": [
       "Text(0.5, 1.0, 'ROC Curve')"
      ]
     },
     "execution_count": 38,
     "metadata": {},
     "output_type": "execute_result"
    },
    {
     "data": {
      "image/png": "[encoded data removed]",
      "text/plain": [
       "<Figure size 432x288 with 1 Axes>"
      ]
     },
     "metadata": {
      "needs_background": "light"
     },
     "output_type": "display_data"
    }
   ],
   "source": [
    "plt.plot(fpr,tpr)\n",
    "plt.plot(fpr,fpr,linestyle='--',color='k')\n",
    "plt.xlabel('False Positive Rate')\n",
    "plt.ylabel('True Positive Rate')\n",
    "plt.title('ROC Curve')"
   ]
  },
  {
   "cell_type": "code",
   "execution_count": 39,
   "metadata": {},
   "outputs": [],
   "source": [
    "from sklearn.metrics import plot_confusion_matrix"
   ]
  },
  {
   "cell_type": "code",
   "execution_count": 42,
   "metadata": {},
   "outputs": [
    {
     "data": {
      "text/html": [
       "<div>\n",
       "<style scoped>\n",
       "    .dataframe tbody tr th:only-of-type {\n",
       "        vertical-align: middle;\n",
       "    }\n",
       "\n",
       "    .dataframe tbody tr th {\n",
       "        vertical-align: top;\n",
       "    }\n",
       "\n",
       "    .dataframe thead th {\n",
       "        text-align: right;\n",
       "    }\n",
       "</style>\n",
       "<table border=\"1\" class=\"dataframe\">\n",
       "  <thead>\n",
       "    <tr style=\"text-align: right;\">\n",
       "      <th></th>\n",
       "      <th>features</th>\n",
       "      <th>churn</th>\n",
       "      <th>rawPrediction</th>\n",
       "      <th>probability</th>\n",
       "      <th>prediction</th>\n",
       "    </tr>\n",
       "  </thead>\n",
       "  <tbody>\n",
       "    <tr>\n",
       "      <th>0</th>\n",
       "      <td>[25.0, 9672.03, 0.0, 5.49, 8.0]</td>\n",
       "      <td>0</td>\n",
       "      <td>[5.058411246307447, -5.058411246307447]</td>\n",
       "      <td>[0.9936844901076958, 0.006315509892304134]</td>\n",
       "      <td>0.0</td>\n",
       "    </tr>\n",
       "    <tr>\n",
       "      <th>1</th>\n",
       "      <td>[26.0, 8939.61, 0.0, 4.54, 7.0]</td>\n",
       "      <td>0</td>\n",
       "      <td>[6.91156995401764, -6.91156995401764]</td>\n",
       "      <td>[0.9990047988204478, 0.0009952011795522138]</td>\n",
       "      <td>0.0</td>\n",
       "    </tr>\n",
       "    <tr>\n",
       "      <th>2</th>\n",
       "      <td>[29.0, 11274.46, 1.0, 4.43, 8.0]</td>\n",
       "      <td>0</td>\n",
       "      <td>[4.5384903283838725, -4.5384903283838725]</td>\n",
       "      <td>[0.9894235255017542, 0.010576474498245805]</td>\n",
       "      <td>0.0</td>\n",
       "    </tr>\n",
       "    <tr>\n",
       "      <th>3</th>\n",
       "      <td>[29.0, 13255.05, 1.0, 4.89, 8.0]</td>\n",
       "      <td>0</td>\n",
       "      <td>[4.121378406981179, -4.121378406981179]</td>\n",
       "      <td>[0.984036818621191, 0.01596318137880903]</td>\n",
       "      <td>0.0</td>\n",
       "    </tr>\n",
       "    <tr>\n",
       "      <th>4</th>\n",
       "      <td>[30.0, 8403.78, 1.0, 4.13, 7.0]</td>\n",
       "      <td>0</td>\n",
       "      <td>[6.220715534045645, -6.220715534045645]</td>\n",
       "      <td>[0.998016121244835, 0.0019838787551648912]</td>\n",
       "      <td>0.0</td>\n",
       "    </tr>\n",
       "    <tr>\n",
       "      <th>5</th>\n",
       "      <td>[30.0, 10183.98, 1.0, 5.14, 9.0]</td>\n",
       "      <td>0</td>\n",
       "      <td>[2.8533233218640888, -2.8533233218640888]</td>\n",
       "      <td>[0.9454902154988308, 0.05450978450116926]</td>\n",
       "      <td>0.0</td>\n",
       "    </tr>\n",
       "    <tr>\n",
       "      <th>6</th>\n",
       "      <td>[30.0, 10960.52, 1.0, 5.96, 9.0]</td>\n",
       "      <td>0</td>\n",
       "      <td>[2.34321738025276, -2.34321738025276]</td>\n",
       "      <td>[0.912393596720317, 0.08760640327968308]</td>\n",
       "      <td>0.0</td>\n",
       "    </tr>\n",
       "    <tr>\n",
       "      <th>7</th>\n",
       "      <td>[30.0, 12788.37, 0.0, 4.31, 10.0]</td>\n",
       "      <td>0</td>\n",
       "      <td>[2.4729410654229937, -2.4729410654229937]</td>\n",
       "      <td>[0.922222983019071, 0.077777016980929]</td>\n",
       "      <td>0.0</td>\n",
       "    </tr>\n",
       "    <tr>\n",
       "      <th>8</th>\n",
       "      <td>[30.0, 13473.35, 0.0, 3.84, 10.0]</td>\n",
       "      <td>0</td>\n",
       "      <td>[2.6695317343018417, -2.6695317343018417]</td>\n",
       "      <td>[0.935204661724413, 0.06479533827558702]</td>\n",
       "      <td>0.0</td>\n",
       "    </tr>\n",
       "    <tr>\n",
       "      <th>9</th>\n",
       "      <td>[31.0, 5304.6, 0.0, 5.29, 9.0]</td>\n",
       "      <td>0</td>\n",
       "      <td>[3.8526638669261573, -3.8526638669261573]</td>\n",
       "      <td>[0.9792179348879895, 0.020782065112010563]</td>\n",
       "      <td>0.0</td>\n",
       "    </tr>\n",
       "  </tbody>\n",
       "</table>\n",
       "</div>"
      ],
      "text/plain": [
       "                            features  churn  \\\n",
       "0    [25.0, 9672.03, 0.0, 5.49, 8.0]      0   \n",
       "1    [26.0, 8939.61, 0.0, 4.54, 7.0]      0   \n",
       "2   [29.0, 11274.46, 1.0, 4.43, 8.0]      0   \n",
       "3   [29.0, 13255.05, 1.0, 4.89, 8.0]      0   \n",
       "4    [30.0, 8403.78, 1.0, 4.13, 7.0]      0   \n",
       "5   [30.0, 10183.98, 1.0, 5.14, 9.0]      0   \n",
       "6   [30.0, 10960.52, 1.0, 5.96, 9.0]      0   \n",
       "7  [30.0, 12788.37, 0.0, 4.31, 10.0]      0   \n",
       "8  [30.0, 13473.35, 0.0, 3.84, 10.0]      0   \n",
       "9     [31.0, 5304.6, 0.0, 5.29, 9.0]      0   \n",
       "\n",
       "                               rawPrediction  \\\n",
       "0    [5.058411246307447, -5.058411246307447]   \n",
       "1      [6.91156995401764, -6.91156995401764]   \n",
       "2  [4.5384903283838725, -4.5384903283838725]   \n",
       "3    [4.121378406981179, -4.121378406981179]   \n",
       "4    [6.220715534045645, -6.220715534045645]   \n",
       "5  [2.8533233218640888, -2.8533233218640888]   \n",
       "6      [2.34321738025276, -2.34321738025276]   \n",
       "7  [2.4729410654229937, -2.4729410654229937]   \n",
       "8  [2.6695317343018417, -2.6695317343018417]   \n",
       "9  [3.8526638669261573, -3.8526638669261573]   \n",
       "\n",
       "                                   probability  prediction  \n",
       "0   [0.9936844901076958, 0.006315509892304134]         0.0  \n",
       "1  [0.9990047988204478, 0.0009952011795522138]         0.0  \n",
       "2   [0.9894235255017542, 0.010576474498245805]         0.0  \n",
       "3     [0.984036818621191, 0.01596318137880903]         0.0  \n",
       "4   [0.998016121244835, 0.0019838787551648912]         0.0  \n",
       "5    [0.9454902154988308, 0.05450978450116926]         0.0  \n",
       "6     [0.912393596720317, 0.08760640327968308]         0.0  \n",
       "7       [0.922222983019071, 0.077777016980929]         0.0  \n",
       "8     [0.935204661724413, 0.06479533827558702]         0.0  \n",
       "9   [0.9792179348879895, 0.020782065112010563]         0.0  "
      ]
     },
     "execution_count": 42,
     "metadata": {},
     "output_type": "execute_result"
    }
   ],
   "source": [
    "dfg.head(10)"
   ]
  },
  {
   "cell_type": "code",
   "execution_count": 47,
   "metadata": {},
   "outputs": [],
   "source": [
    "from sklearn import metrics"
   ]
  },
  {
   "cell_type": "code",
   "execution_count": 50,
   "metadata": {},
   "outputs": [],
   "source": [
    "import pandas as pd"
   ]
  },
  {
   "cell_type": "code",
   "execution_count": 48,
   "metadata": {},
   "outputs": [],
   "source": [
    "cnf_matrix = metrics.confusion_matrix(dfg['churn'], dfg['prediction'])"
   ]
  },
  {
   "cell_type": "code",
   "execution_count": 51,
   "metadata": {},
   "outputs": [
    {
     "data": {
      "text/plain": [
       "Text(0.5, 257.44, 'Predicted label')"
      ]
     },
     "execution_count": 51,
     "metadata": {},
     "output_type": "execute_result"
    },
    {
     "data": {
      "image/png": "[encoded data removed]",
      "text/plain": [
       "<Figure size 432x288 with 2 Axes>"
      ]
     },
     "metadata": {
      "needs_background": "light"
     },
     "output_type": "display_data"
    }
   ],
   "source": [
    "class_names=[1,2,3,4,5] # name  of classes\n",
    "fig, ax = plt.subplots()\n",
    "# create heatmap\n",
    "sns.heatmap(pd.DataFrame(cnf_matrix), annot=True, cmap=\"YlGnBu\" ,fmt='g')\n",
    "ax.xaxis.set_label_position(\"top\")\n",
    "ax.xaxis.set_ticklabels(class_names)\n",
    "ax.yaxis.set_ticklabels(class_names)\n",
    "plt.tight_layout()\n",
    "plt.title('Confusion matrix', y=1.1)\n",
    "plt.ylabel('Actual label')\n",
    "plt.xlabel('Predicted label')"
   ]
  },
  {
   "cell_type": "markdown",
   "metadata": {},
   "source": [
    "### Predict on brand new unlabeled data\n",
    "\n",
    "We still need to evaluate the new_customers.csv file!"
   ]
  },
  {
   "cell_type": "code",
   "execution_count": 24,
   "metadata": {},
   "outputs": [],
   "source": [
    "final_lr_model = lr_churn.fit(final_data)"
   ]
  },
  {
   "cell_type": "code",
   "execution_count": 25,
   "metadata": {},
   "outputs": [],
   "source": [
    "new_customers = spark.read.csv('new_customers.csv',inferSchema=True,\n",
    "                              header=True)"
   ]
  },
  {
   "cell_type": "code",
   "execution_count": 26,
   "metadata": {},
   "outputs": [
    {
     "name": "stdout",
     "output_type": "stream",
     "text": [
      "root\n",
      " |-- Names: string (nullable = true)\n",
      " |-- Age: double (nullable = true)\n",
      " |-- Total_Purchase: double (nullable = true)\n",
      " |-- Account_Manager: integer (nullable = true)\n",
      " |-- Years: double (nullable = true)\n",
      " |-- Num_Sites: double (nullable = true)\n",
      " |-- Onboard_date: timestamp (nullable = true)\n",
      " |-- Location: string (nullable = true)\n",
      " |-- Company: string (nullable = true)\n",
      "\n"
     ]
    }
   ],
   "source": [
    "new_customers.printSchema()"
   ]
  },
  {
   "cell_type": "code",
   "execution_count": 27,
   "metadata": {},
   "outputs": [],
   "source": [
    "test_new_customers = assembler.transform(new_customers)"
   ]
  },
  {
   "cell_type": "code",
   "execution_count": 28,
   "metadata": {},
   "outputs": [
    {
     "name": "stdout",
     "output_type": "stream",
     "text": [
      "root\n",
      " |-- Names: string (nullable = true)\n",
      " |-- Age: double (nullable = true)\n",
      " |-- Total_Purchase: double (nullable = true)\n",
      " |-- Account_Manager: integer (nullable = true)\n",
      " |-- Years: double (nullable = true)\n",
      " |-- Num_Sites: double (nullable = true)\n",
      " |-- Onboard_date: timestamp (nullable = true)\n",
      " |-- Location: string (nullable = true)\n",
      " |-- Company: string (nullable = true)\n",
      " |-- features: vector (nullable = true)\n",
      "\n"
     ]
    }
   ],
   "source": [
    "test_new_customers.printSchema()"
   ]
  },
  {
   "cell_type": "code",
   "execution_count": 29,
   "metadata": {},
   "outputs": [],
   "source": [
    "final_results = final_lr_model.transform(test_new_customers)"
   ]
  },
  {
   "cell_type": "code",
   "execution_count": 30,
   "metadata": {},
   "outputs": [
    {
     "name": "stdout",
     "output_type": "stream",
     "text": [
      "+----------------+----------+\n",
      "|         Company|prediction|\n",
      "+----------------+----------+\n",
      "|        King Ltd|       0.0|\n",
      "|   Cannon-Benson|       1.0|\n",
      "|Barron-Robertson|       1.0|\n",
      "|   Sexton-Golden|       1.0|\n",
      "|        Wood LLC|       0.0|\n",
      "|   Parks-Robbins|       1.0|\n",
      "+----------------+----------+\n",
      "\n"
     ]
    }
   ],
   "source": [
    "final_results.select('Company','prediction').show()"
   ]
  },
  {
   "cell_type": "markdown",
   "metadata": {},
   "source": [
    "Ok! That is it! Now we know that we should assign Acocunt Managers to Cannon-Benson,Barron-Robertson,Sexton-GOlden, and Parks-Robbins!"
   ]
  },
  {
   "cell_type": "code",
   "execution_count": null,
   "metadata": {},
   "outputs": [],
   "source": []
  }
 ],
 "metadata": {
  "kernelspec": {
   "display_name": "Python 3",
   "language": "python",
   "name": "python3"
  },
  "language_info": {
   "codemirror_mode": {
    "name": "ipython",
    "version": 3
   },
   "file_extension": ".py",
   "mimetype": "text/x-python",
   "name": "python",
   "nbconvert_exporter": "python",
   "pygments_lexer": "ipython3",
   "version": "3.6.9"
  }
 },
 "nbformat": 4,
 "nbformat_minor": 4
}
