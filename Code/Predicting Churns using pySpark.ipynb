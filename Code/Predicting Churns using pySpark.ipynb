{
 "cells": [
  {
   "cell_type": "markdown",
   "metadata": {},
   "source": [
    "## Hands On Binary Customer Churn Evaluator\n",
    "\n",
    "A marketing agency has many customers that use their service to produce ads for the client/customer websites. They've noticed that they have quite a bit of churn in clients. They basically randomly assign account managers right now, but want you to create a machine learning model that will help predict which customers will churn (stop buying their service) so that they can correctly assign the customers most at risk to churn an account manager. Luckily they have some historical data, can you help them out? Create a classification algorithm that will help classify whether or not a customer churned. Then the company can test this against incoming data for future customers to predict which customers will churn and assign them an account manager.\n",
    "\n",
    "The data is saved as customer_churn.csv. Here are the fields and their definitions:\n",
    "\n",
    "    Name : Name of the latest contact at Company\n",
    "    Age: Customer Age\n",
    "    Total_Purchase: Total Ads Purchased\n",
    "    Account_Manager: Binary 0=No manager, 1= Account manager assigned\n",
    "    Years: Totaly Years as a customer\n",
    "    Num_sites: Number of websites that use the service.\n",
    "    Onboard_date: Date that the name of the latest contact was onboarded\n",
    "    Location: Client HQ Address\n",
    "    Company: Name of Client Company\n",
    "    \n",
    "Once you've created the model and evaluated it, test out the model on some new data (you can think of this almost like a hold-out set) that your client has provided, saved under new_customers.csv. The client wants to know which customers are most likely to churn given this data (they don't have the label yet)."
   ]
  },
  {
   "cell_type": "code",
   "execution_count": 1,
   "metadata": {},
   "outputs": [],
   "source": [
    "import findspark\n",
    "findspark.init('/home/ubuntu/spark-2.1.1-bin-hadoop2.7')\n",
    "import pyspark\n",
    "from pyspark.sql import SparkSession\n",
    "spark = SparkSession.builder.appName('Churn').getOrCreate()"
   ]
  },
  {
   "cell_type": "code",
   "execution_count": 2,
   "metadata": {},
   "outputs": [],
   "source": [
    "from pyspark.ml.classification import LogisticRegression"
   ]
  },
  {
   "cell_type": "code",
   "execution_count": 3,
   "metadata": {},
   "outputs": [],
   "source": [
    "df = spark.read.csv('customer_churn.csv',inferSchema=True,header=True)"
   ]
  },
  {
   "cell_type": "code",
   "execution_count": 4,
   "metadata": {},
   "outputs": [
    {
     "name": "stdout",
     "output_type": "stream",
     "text": [
      "root\n",
      " |-- Names: string (nullable = true)\n",
      " |-- Age: integer (nullable = true)\n",
      " |-- Total_Purchase: double (nullable = true)\n",
      " |-- Account_Manager: integer (nullable = true)\n",
      " |-- Years: double (nullable = true)\n",
      " |-- Num_Sites: integer (nullable = true)\n",
      " |-- Onboard_date: string (nullable = true)\n",
      " |-- Location: string (nullable = true)\n",
      " |-- Company: string (nullable = true)\n",
      " |-- Churn: integer (nullable = true)\n",
      "\n"
     ]
    }
   ],
   "source": [
    "df.printSchema()"
   ]
  },
  {
   "cell_type": "code",
   "execution_count": 5,
   "metadata": {},
   "outputs": [
    {
     "data": {
      "text/plain": [
       "['Names',\n",
       " 'Age',\n",
       " 'Total_Purchase',\n",
       " 'Account_Manager',\n",
       " 'Years',\n",
       " 'Num_Sites',\n",
       " 'Onboard_date',\n",
       " 'Location',\n",
       " 'Company',\n",
       " 'Churn']"
      ]
     },
     "execution_count": 5,
     "metadata": {},
     "output_type": "execute_result"
    }
   ],
   "source": [
    "df.columns"
   ]
  },
  {
   "cell_type": "code",
   "execution_count": 6,
   "metadata": {},
   "outputs": [],
   "source": [
    "from pyspark.ml.feature import VectorAssembler"
   ]
  },
  {
   "cell_type": "code",
   "execution_count": 7,
   "metadata": {},
   "outputs": [],
   "source": [
    "assembler = VectorAssembler(inputCols=['Age',\n",
    " 'Total_Purchase',\n",
    " 'Account_Manager',\n",
    " 'Years',\n",
    " 'Num_Sites'],outputCol='features')"
   ]
  },
  {
   "cell_type": "code",
   "execution_count": 8,
   "metadata": {},
   "outputs": [],
   "source": [
    "output = assembler.transform(df)"
   ]
  },
  {
   "cell_type": "code",
   "execution_count": 9,
   "metadata": {},
   "outputs": [],
   "source": [
    "final_data = output.select('features','churn')"
   ]
  },
  {
   "cell_type": "code",
   "execution_count": 10,
   "metadata": {},
   "outputs": [
    {
     "name": "stdout",
     "output_type": "stream",
     "text": [
      "+--------------------+-----+\n",
      "|            features|churn|\n",
      "+--------------------+-----+\n",
      "|[42.0,11066.8,0.0...|    1|\n",
      "|[41.0,11916.22,0....|    1|\n",
      "|[38.0,12884.75,0....|    1|\n",
      "|[42.0,8010.76,0.0...|    1|\n",
      "|[37.0,9191.58,0.0...|    1|\n",
      "|[48.0,10356.02,0....|    1|\n",
      "|[44.0,11331.58,1....|    1|\n",
      "|[32.0,9885.12,1.0...|    1|\n",
      "|[43.0,14062.6,1.0...|    1|\n",
      "|[40.0,8066.94,1.0...|    1|\n",
      "|[30.0,11575.37,1....|    1|\n",
      "|[45.0,8771.02,1.0...|    1|\n",
      "|[45.0,8988.67,1.0...|    1|\n",
      "|[40.0,8283.32,1.0...|    1|\n",
      "|[41.0,6569.87,1.0...|    1|\n",
      "|[38.0,10494.82,1....|    1|\n",
      "|[45.0,8213.41,1.0...|    1|\n",
      "|[43.0,11226.88,0....|    1|\n",
      "|[53.0,5515.09,0.0...|    1|\n",
      "|[46.0,8046.4,1.0,...|    1|\n",
      "+--------------------+-----+\n",
      "only showing top 20 rows\n",
      "\n"
     ]
    }
   ],
   "source": [
    "final_data.show()"
   ]
  },
  {
   "cell_type": "code",
   "execution_count": 11,
   "metadata": {},
   "outputs": [],
   "source": [
    "train_churn,test_churn = final_data.randomSplit([0.7,0.3])"
   ]
  },
  {
   "cell_type": "code",
   "execution_count": 12,
   "metadata": {},
   "outputs": [],
   "source": [
    "lr_churn = LogisticRegression(featuresCol = 'features',labelCol='churn')"
   ]
  },
  {
   "cell_type": "code",
   "execution_count": 13,
   "metadata": {},
   "outputs": [],
   "source": [
    "fitted_churn_model = lr_churn.fit(train_churn)"
   ]
  },
  {
   "cell_type": "code",
   "execution_count": 14,
   "metadata": {},
   "outputs": [],
   "source": [
    "training_sum = fitted_churn_model.summary"
   ]
  },
  {
   "cell_type": "markdown",
   "metadata": {},
   "source": [
    "### Evaluate results\n",
    "\n",
    "Let's evaluate the results on the data set we were given (using the test data)"
   ]
  },
  {
   "cell_type": "code",
   "execution_count": 15,
   "metadata": {},
   "outputs": [],
   "source": [
    "from pyspark.ml.evaluation import BinaryClassificationEvaluator"
   ]
  },
  {
   "cell_type": "code",
   "execution_count": 16,
   "metadata": {},
   "outputs": [],
   "source": [
    "pred_and_labels = fitted_churn_model.evaluate(test_churn)"
   ]
  },
  {
   "cell_type": "code",
   "execution_count": 17,
   "metadata": {},
   "outputs": [
    {
     "name": "stdout",
     "output_type": "stream",
     "text": [
      "+--------------------+-----+--------------------+--------------------+----------+\n",
      "|            features|churn|       rawPrediction|         probability|prediction|\n",
      "+--------------------+-----+--------------------+--------------------+----------+\n",
      "|[22.0,11254.38,1....|    0|[5.52159691806313...|[0.99601647589334...|       0.0|\n",
      "|[28.0,9090.43,1.0...|    0|[1.98633570663306...|[0.87935493331968...|       0.0|\n",
      "|[28.0,11245.38,0....|    0|[4.30633075424808...|[0.9866964398551,...|       0.0|\n",
      "|[29.0,5900.78,1.0...|    0|[4.96690245369377...|[0.99308348328094...|       0.0|\n",
      "|[29.0,8688.17,1.0...|    1|[3.29103080746525...|[0.96411982968159...|       0.0|\n",
      "|[29.0,9617.59,0.0...|    0|[5.09436401487799...|[0.99390615784382...|       0.0|\n",
      "|[29.0,10203.18,1....|    0|[4.42382577320060...|[0.98815373632693...|       0.0|\n",
      "|[29.0,11274.46,1....|    0|[5.16168197118429...|[0.99430061871156...|       0.0|\n",
      "|[30.0,8403.78,1.0...|    0|[6.84447297381239...|[0.99893580617074...|       0.0|\n",
      "|[30.0,8677.28,1.0...|    0|[4.91135208556190...|[0.99269128378697...|       0.0|\n",
      "|[30.0,11575.37,1....|    1|[4.56388496720454...|[0.98968599430140...|       0.0|\n",
      "|[30.0,13473.35,0....|    0|[2.95897473235687...|[0.95068594934318...|       0.0|\n",
      "|[31.0,8829.83,1.0...|    0|[5.13438230311274...|[0.99414380796431...|       0.0|\n",
      "|[31.0,10182.6,1.0...|    0|[5.46281214650561...|[0.99577630434757...|       0.0|\n",
      "|[31.0,11297.57,1....|    1|[1.20390876464038...|[0.76921940104325...|       0.0|\n",
      "|[31.0,11743.24,0....|    0|[7.50618051206994...|[0.99945062541098...|       0.0|\n",
      "|[31.0,12264.68,1....|    0|[4.00916951245971...|[0.98217503463885...|       0.0|\n",
      "|[32.0,5756.12,0.0...|    0|[4.90586880426166...|[0.99265139327543...|       0.0|\n",
      "|[32.0,6367.22,1.0...|    0|[3.58538447261660...|[0.97302198685523...|       0.0|\n",
      "|[32.0,8617.98,1.0...|    1|[1.36636436550272...|[0.79679212701404...|       0.0|\n",
      "+--------------------+-----+--------------------+--------------------+----------+\n",
      "only showing top 20 rows\n",
      "\n"
     ]
    }
   ],
   "source": [
    "pred_and_labels.predictions.show()"
   ]
  },
  {
   "cell_type": "markdown",
   "metadata": {},
   "source": [
    "### Using AUC"
   ]
  },
  {
   "cell_type": "code",
   "execution_count": 18,
   "metadata": {},
   "outputs": [],
   "source": [
    "churn_eval = BinaryClassificationEvaluator(rawPredictionCol='prediction',\n",
    "                                           labelCol='churn')"
   ]
  },
  {
   "cell_type": "code",
   "execution_count": 19,
   "metadata": {},
   "outputs": [],
   "source": [
    "auc = churn_eval.evaluate(pred_and_labels.predictions)"
   ]
  },
  {
   "cell_type": "code",
   "execution_count": 20,
   "metadata": {},
   "outputs": [
    {
     "data": {
      "text/plain": [
       "0.7764291670527194"
      ]
     },
     "execution_count": 20,
     "metadata": {},
     "output_type": "execute_result"
    }
   ],
   "source": [
    "auc"
   ]
  },
  {
   "cell_type": "code",
   "execution_count": 21,
   "metadata": {},
   "outputs": [
    {
     "data": {
      "text/plain": [
       "pyspark.ml.classification.BinaryLogisticRegressionSummary"
      ]
     },
     "execution_count": 21,
     "metadata": {},
     "output_type": "execute_result"
    }
   ],
   "source": [
    "type(pred_and_labels)"
   ]
  },
  {
   "cell_type": "code",
   "execution_count": 22,
   "metadata": {},
   "outputs": [],
   "source": [
    "from sklearn.metrics import roc_curve, roc_auc_score"
   ]
  },
  {
   "cell_type": "code",
   "execution_count": 23,
   "metadata": {},
   "outputs": [],
   "source": [
    "test_lr_model = fitted_churn_model.transform(test_churn)"
   ]
  },
  {
   "cell_type": "code",
   "execution_count": 24,
   "metadata": {},
   "outputs": [
    {
     "name": "stdout",
     "output_type": "stream",
     "text": [
      "+--------------------+-----+--------------------+--------------------+----------+\n",
      "|            features|churn|       rawPrediction|         probability|prediction|\n",
      "+--------------------+-----+--------------------+--------------------+----------+\n",
      "|[22.0,11254.38,1....|    0|[5.52159691806313...|[0.99601647589334...|       0.0|\n",
      "|[28.0,9090.43,1.0...|    0|[1.98633570663306...|[0.87935493331968...|       0.0|\n",
      "|[28.0,11245.38,0....|    0|[4.30633075424808...|[0.9866964398551,...|       0.0|\n",
      "|[29.0,5900.78,1.0...|    0|[4.96690245369377...|[0.99308348328094...|       0.0|\n",
      "|[29.0,8688.17,1.0...|    1|[3.29103080746525...|[0.96411982968159...|       0.0|\n",
      "|[29.0,9617.59,0.0...|    0|[5.09436401487799...|[0.99390615784382...|       0.0|\n",
      "|[29.0,10203.18,1....|    0|[4.42382577320060...|[0.98815373632693...|       0.0|\n",
      "|[29.0,11274.46,1....|    0|[5.16168197118429...|[0.99430061871156...|       0.0|\n",
      "|[30.0,8403.78,1.0...|    0|[6.84447297381239...|[0.99893580617074...|       0.0|\n",
      "|[30.0,8677.28,1.0...|    0|[4.91135208556190...|[0.99269128378697...|       0.0|\n",
      "|[30.0,11575.37,1....|    1|[4.56388496720454...|[0.98968599430140...|       0.0|\n",
      "|[30.0,13473.35,0....|    0|[2.95897473235687...|[0.95068594934318...|       0.0|\n",
      "|[31.0,8829.83,1.0...|    0|[5.13438230311274...|[0.99414380796431...|       0.0|\n",
      "|[31.0,10182.6,1.0...|    0|[5.46281214650561...|[0.99577630434757...|       0.0|\n",
      "|[31.0,11297.57,1....|    1|[1.20390876464038...|[0.76921940104325...|       0.0|\n",
      "|[31.0,11743.24,0....|    0|[7.50618051206994...|[0.99945062541098...|       0.0|\n",
      "|[31.0,12264.68,1....|    0|[4.00916951245971...|[0.98217503463885...|       0.0|\n",
      "|[32.0,5756.12,0.0...|    0|[4.90586880426166...|[0.99265139327543...|       0.0|\n",
      "|[32.0,6367.22,1.0...|    0|[3.58538447261660...|[0.97302198685523...|       0.0|\n",
      "|[32.0,8617.98,1.0...|    1|[1.36636436550272...|[0.79679212701404...|       0.0|\n",
      "+--------------------+-----+--------------------+--------------------+----------+\n",
      "only showing top 20 rows\n",
      "\n"
     ]
    }
   ],
   "source": [
    "test_lr_model.show()"
   ]
  },
  {
   "cell_type": "code",
   "execution_count": 25,
   "metadata": {},
   "outputs": [
    {
     "data": {
      "text/plain": [
       "pyspark.sql.dataframe.DataFrame"
      ]
     },
     "execution_count": 25,
     "metadata": {},
     "output_type": "execute_result"
    }
   ],
   "source": [
    "type(test_lr_model)"
   ]
  },
  {
   "cell_type": "code",
   "execution_count": 26,
   "metadata": {},
   "outputs": [],
   "source": [
    "dfg = test_lr_model.toPandas()"
   ]
  },
  {
   "cell_type": "code",
   "execution_count": 27,
   "metadata": {},
   "outputs": [],
   "source": [
    "import matplotlib.pyplot as plt\n",
    "import seaborn as sns"
   ]
  },
  {
   "cell_type": "code",
   "execution_count": 52,
   "metadata": {},
   "outputs": [],
   "source": [
    "import pandas as pd"
   ]
  },
  {
   "cell_type": "code",
   "execution_count": 28,
   "metadata": {},
   "outputs": [],
   "source": [
    "import numpy as np"
   ]
  },
  {
   "cell_type": "code",
   "execution_count": 29,
   "metadata": {},
   "outputs": [
    {
     "data": {
      "text/plain": [
       "pandas.core.frame.DataFrame"
      ]
     },
     "execution_count": 29,
     "metadata": {},
     "output_type": "execute_result"
    }
   ],
   "source": [
    "type(dfg)"
   ]
  },
  {
   "cell_type": "code",
   "execution_count": 30,
   "metadata": {},
   "outputs": [],
   "source": [
    "AUROC = roc_auc_score(dfg['churn'],dfg['prediction'])"
   ]
  },
  {
   "cell_type": "code",
   "execution_count": 31,
   "metadata": {},
   "outputs": [
    {
     "data": {
      "text/plain": [
       "0.7764291670527194"
      ]
     },
     "execution_count": 31,
     "metadata": {},
     "output_type": "execute_result"
    }
   ],
   "source": [
    "AUROC"
   ]
  },
  {
   "cell_type": "code",
   "execution_count": 32,
   "metadata": {},
   "outputs": [
    {
     "data": {
      "text/html": [
       "<div>\n",
       "<style scoped>\n",
       "    .dataframe tbody tr th:only-of-type {\n",
       "        vertical-align: middle;\n",
       "    }\n",
       "\n",
       "    .dataframe tbody tr th {\n",
       "        vertical-align: top;\n",
       "    }\n",
       "\n",
       "    .dataframe thead th {\n",
       "        text-align: right;\n",
       "    }\n",
       "</style>\n",
       "<table border=\"1\" class=\"dataframe\">\n",
       "  <thead>\n",
       "    <tr style=\"text-align: right;\">\n",
       "      <th></th>\n",
       "      <th>features</th>\n",
       "      <th>churn</th>\n",
       "      <th>rawPrediction</th>\n",
       "      <th>probability</th>\n",
       "      <th>prediction</th>\n",
       "    </tr>\n",
       "  </thead>\n",
       "  <tbody>\n",
       "    <tr>\n",
       "      <th>0</th>\n",
       "      <td>[22.0, 11254.38, 1.0, 4.96, 8.0]</td>\n",
       "      <td>0</td>\n",
       "      <td>[5.521596918063132, -5.521596918063132]</td>\n",
       "      <td>[0.9960164758933467, 0.0039835241066532405]</td>\n",
       "      <td>0.0</td>\n",
       "    </tr>\n",
       "    <tr>\n",
       "      <th>1</th>\n",
       "      <td>[28.0, 9090.43, 1.0, 5.74, 10.0]</td>\n",
       "      <td>0</td>\n",
       "      <td>[1.9863357066330636, -1.9863357066330636]</td>\n",
       "      <td>[0.8793549333196816, 0.12064506668031845]</td>\n",
       "      <td>0.0</td>\n",
       "    </tr>\n",
       "    <tr>\n",
       "      <th>2</th>\n",
       "      <td>[28.0, 11245.38, 0.0, 6.72, 8.0]</td>\n",
       "      <td>0</td>\n",
       "      <td>[4.30633075424808, -4.30633075424808]</td>\n",
       "      <td>[0.9866964398551, 0.013303560144900025]</td>\n",
       "      <td>0.0</td>\n",
       "    </tr>\n",
       "    <tr>\n",
       "      <th>3</th>\n",
       "      <td>[29.0, 5900.78, 1.0, 5.56, 8.0]</td>\n",
       "      <td>0</td>\n",
       "      <td>[4.966902453693777, -4.966902453693777]</td>\n",
       "      <td>[0.993083483280944, 0.006916516719056102]</td>\n",
       "      <td>0.0</td>\n",
       "    </tr>\n",
       "    <tr>\n",
       "      <th>4</th>\n",
       "      <td>[29.0, 8688.17, 1.0, 5.7, 9.0]</td>\n",
       "      <td>1</td>\n",
       "      <td>[3.2910308074652583, -3.2910308074652583]</td>\n",
       "      <td>[0.9641198296815964, 0.035880170318403674]</td>\n",
       "      <td>0.0</td>\n",
       "    </tr>\n",
       "    <tr>\n",
       "      <th>5</th>\n",
       "      <td>[29.0, 9617.59, 0.0, 5.49, 8.0]</td>\n",
       "      <td>0</td>\n",
       "      <td>[5.094364014877996, -5.094364014877996]</td>\n",
       "      <td>[0.9939061578438267, 0.006093842156173179]</td>\n",
       "      <td>0.0</td>\n",
       "    </tr>\n",
       "    <tr>\n",
       "      <th>6</th>\n",
       "      <td>[29.0, 10203.18, 1.0, 5.82, 8.0]</td>\n",
       "      <td>0</td>\n",
       "      <td>[4.423825773200608, -4.423825773200608]</td>\n",
       "      <td>[0.9881537363269345, 0.011846263673065542]</td>\n",
       "      <td>0.0</td>\n",
       "    </tr>\n",
       "    <tr>\n",
       "      <th>7</th>\n",
       "      <td>[29.0, 11274.46, 1.0, 4.43, 8.0]</td>\n",
       "      <td>0</td>\n",
       "      <td>[5.16168197118429, -5.16168197118429]</td>\n",
       "      <td>[0.9943006187115672, 0.005699381288432765]</td>\n",
       "      <td>0.0</td>\n",
       "    </tr>\n",
       "    <tr>\n",
       "      <th>8</th>\n",
       "      <td>[30.0, 8403.78, 1.0, 4.13, 7.0]</td>\n",
       "      <td>0</td>\n",
       "      <td>[6.844472973812392, -6.844472973812392]</td>\n",
       "      <td>[0.9989358061707416, 0.0010641938292584945]</td>\n",
       "      <td>0.0</td>\n",
       "    </tr>\n",
       "    <tr>\n",
       "      <th>9</th>\n",
       "      <td>[30.0, 8677.28, 1.0, 7.31, 7.0]</td>\n",
       "      <td>0</td>\n",
       "      <td>[4.911352085561905, -4.911352085561905]</td>\n",
       "      <td>[0.9926912837869708, 0.007308716213029219]</td>\n",
       "      <td>0.0</td>\n",
       "    </tr>\n",
       "  </tbody>\n",
       "</table>\n",
       "</div>"
      ],
      "text/plain": [
       "                           features  churn  \\\n",
       "0  [22.0, 11254.38, 1.0, 4.96, 8.0]      0   \n",
       "1  [28.0, 9090.43, 1.0, 5.74, 10.0]      0   \n",
       "2  [28.0, 11245.38, 0.0, 6.72, 8.0]      0   \n",
       "3   [29.0, 5900.78, 1.0, 5.56, 8.0]      0   \n",
       "4    [29.0, 8688.17, 1.0, 5.7, 9.0]      1   \n",
       "5   [29.0, 9617.59, 0.0, 5.49, 8.0]      0   \n",
       "6  [29.0, 10203.18, 1.0, 5.82, 8.0]      0   \n",
       "7  [29.0, 11274.46, 1.0, 4.43, 8.0]      0   \n",
       "8   [30.0, 8403.78, 1.0, 4.13, 7.0]      0   \n",
       "9   [30.0, 8677.28, 1.0, 7.31, 7.0]      0   \n",
       "\n",
       "                               rawPrediction  \\\n",
       "0    [5.521596918063132, -5.521596918063132]   \n",
       "1  [1.9863357066330636, -1.9863357066330636]   \n",
       "2      [4.30633075424808, -4.30633075424808]   \n",
       "3    [4.966902453693777, -4.966902453693777]   \n",
       "4  [3.2910308074652583, -3.2910308074652583]   \n",
       "5    [5.094364014877996, -5.094364014877996]   \n",
       "6    [4.423825773200608, -4.423825773200608]   \n",
       "7      [5.16168197118429, -5.16168197118429]   \n",
       "8    [6.844472973812392, -6.844472973812392]   \n",
       "9    [4.911352085561905, -4.911352085561905]   \n",
       "\n",
       "                                   probability  prediction  \n",
       "0  [0.9960164758933467, 0.0039835241066532405]         0.0  \n",
       "1    [0.8793549333196816, 0.12064506668031845]         0.0  \n",
       "2      [0.9866964398551, 0.013303560144900025]         0.0  \n",
       "3    [0.993083483280944, 0.006916516719056102]         0.0  \n",
       "4   [0.9641198296815964, 0.035880170318403674]         0.0  \n",
       "5   [0.9939061578438267, 0.006093842156173179]         0.0  \n",
       "6   [0.9881537363269345, 0.011846263673065542]         0.0  \n",
       "7   [0.9943006187115672, 0.005699381288432765]         0.0  \n",
       "8  [0.9989358061707416, 0.0010641938292584945]         0.0  \n",
       "9   [0.9926912837869708, 0.007308716213029219]         0.0  "
      ]
     },
     "execution_count": 32,
     "metadata": {},
     "output_type": "execute_result"
    }
   ],
   "source": [
    "dfg.head(10)"
   ]
  },
  {
   "cell_type": "code",
   "execution_count": 46,
   "metadata": {},
   "outputs": [
    {
     "data": {
      "text/html": [
       "<div>\n",
       "<style scoped>\n",
       "    .dataframe tbody tr th:only-of-type {\n",
       "        vertical-align: middle;\n",
       "    }\n",
       "\n",
       "    .dataframe tbody tr th {\n",
       "        vertical-align: top;\n",
       "    }\n",
       "\n",
       "    .dataframe thead th {\n",
       "        text-align: right;\n",
       "    }\n",
       "</style>\n",
       "<table border=\"1\" class=\"dataframe\">\n",
       "  <thead>\n",
       "    <tr style=\"text-align: right;\">\n",
       "      <th></th>\n",
       "      <th>churn</th>\n",
       "      <th>prediction</th>\n",
       "    </tr>\n",
       "  </thead>\n",
       "  <tbody>\n",
       "    <tr>\n",
       "      <th>count</th>\n",
       "      <td>294.000000</td>\n",
       "      <td>294.000000</td>\n",
       "    </tr>\n",
       "    <tr>\n",
       "      <th>mean</th>\n",
       "      <td>0.146259</td>\n",
       "      <td>0.132653</td>\n",
       "    </tr>\n",
       "    <tr>\n",
       "      <th>std</th>\n",
       "      <td>0.353968</td>\n",
       "      <td>0.339778</td>\n",
       "    </tr>\n",
       "    <tr>\n",
       "      <th>min</th>\n",
       "      <td>0.000000</td>\n",
       "      <td>0.000000</td>\n",
       "    </tr>\n",
       "    <tr>\n",
       "      <th>25%</th>\n",
       "      <td>0.000000</td>\n",
       "      <td>0.000000</td>\n",
       "    </tr>\n",
       "    <tr>\n",
       "      <th>50%</th>\n",
       "      <td>0.000000</td>\n",
       "      <td>0.000000</td>\n",
       "    </tr>\n",
       "    <tr>\n",
       "      <th>75%</th>\n",
       "      <td>0.000000</td>\n",
       "      <td>0.000000</td>\n",
       "    </tr>\n",
       "    <tr>\n",
       "      <th>max</th>\n",
       "      <td>1.000000</td>\n",
       "      <td>1.000000</td>\n",
       "    </tr>\n",
       "  </tbody>\n",
       "</table>\n",
       "</div>"
      ],
      "text/plain": [
       "            churn  prediction\n",
       "count  294.000000  294.000000\n",
       "mean     0.146259    0.132653\n",
       "std      0.353968    0.339778\n",
       "min      0.000000    0.000000\n",
       "25%      0.000000    0.000000\n",
       "50%      0.000000    0.000000\n",
       "75%      0.000000    0.000000\n",
       "max      1.000000    1.000000"
      ]
     },
     "execution_count": 46,
     "metadata": {},
     "output_type": "execute_result"
    }
   ],
   "source": [
    "dfg.describe()"
   ]
  },
  {
   "cell_type": "code",
   "execution_count": 49,
   "metadata": {},
   "outputs": [],
   "source": [
    "a=[]\n",
    "for i in range(294):\n",
    "    a.append(dfg['probability'][i][1])"
   ]
  },
  {
   "cell_type": "code",
   "execution_count": 53,
   "metadata": {},
   "outputs": [],
   "source": [
    "dft = pd.DataFrame(a)"
   ]
  },
  {
   "cell_type": "code",
   "execution_count": 55,
   "metadata": {},
   "outputs": [],
   "source": [
    "dft.columns = ['Probability of not churn']"
   ]
  },
  {
   "cell_type": "code",
   "execution_count": 56,
   "metadata": {},
   "outputs": [
    {
     "data": {
      "text/html": [
       "<div>\n",
       "<style scoped>\n",
       "    .dataframe tbody tr th:only-of-type {\n",
       "        vertical-align: middle;\n",
       "    }\n",
       "\n",
       "    .dataframe tbody tr th {\n",
       "        vertical-align: top;\n",
       "    }\n",
       "\n",
       "    .dataframe thead th {\n",
       "        text-align: right;\n",
       "    }\n",
       "</style>\n",
       "<table border=\"1\" class=\"dataframe\">\n",
       "  <thead>\n",
       "    <tr style=\"text-align: right;\">\n",
       "      <th></th>\n",
       "      <th>Probability of not churn</th>\n",
       "    </tr>\n",
       "  </thead>\n",
       "  <tbody>\n",
       "    <tr>\n",
       "      <th>0</th>\n",
       "      <td>0.003984</td>\n",
       "    </tr>\n",
       "    <tr>\n",
       "      <th>1</th>\n",
       "      <td>0.120645</td>\n",
       "    </tr>\n",
       "    <tr>\n",
       "      <th>2</th>\n",
       "      <td>0.013304</td>\n",
       "    </tr>\n",
       "    <tr>\n",
       "      <th>3</th>\n",
       "      <td>0.006917</td>\n",
       "    </tr>\n",
       "    <tr>\n",
       "      <th>4</th>\n",
       "      <td>0.035880</td>\n",
       "    </tr>\n",
       "    <tr>\n",
       "      <th>5</th>\n",
       "      <td>0.006094</td>\n",
       "    </tr>\n",
       "    <tr>\n",
       "      <th>6</th>\n",
       "      <td>0.011846</td>\n",
       "    </tr>\n",
       "    <tr>\n",
       "      <th>7</th>\n",
       "      <td>0.005699</td>\n",
       "    </tr>\n",
       "    <tr>\n",
       "      <th>8</th>\n",
       "      <td>0.001064</td>\n",
       "    </tr>\n",
       "    <tr>\n",
       "      <th>9</th>\n",
       "      <td>0.007309</td>\n",
       "    </tr>\n",
       "  </tbody>\n",
       "</table>\n",
       "</div>"
      ],
      "text/plain": [
       "   Probability of not churn\n",
       "0                  0.003984\n",
       "1                  0.120645\n",
       "2                  0.013304\n",
       "3                  0.006917\n",
       "4                  0.035880\n",
       "5                  0.006094\n",
       "6                  0.011846\n",
       "7                  0.005699\n",
       "8                  0.001064\n",
       "9                  0.007309"
      ]
     },
     "execution_count": 56,
     "metadata": {},
     "output_type": "execute_result"
    }
   ],
   "source": [
    "dft.head(10)"
   ]
  },
  {
   "cell_type": "code",
   "execution_count": 57,
   "metadata": {},
   "outputs": [],
   "source": [
    "fpr,tpr,thresholds = roc_curve(dfg['churn'],dft['Probability of not churn'])"
   ]
  },
  {
   "cell_type": "code",
   "execution_count": 58,
   "metadata": {},
   "outputs": [
    {
     "data": {
      "text/plain": [
       "Text(0.5, 1.0, 'ROC Curve')"
      ]
     },
     "execution_count": 58,
     "metadata": {},
     "output_type": "execute_result"
    },
    {
     "data": {
      "image/png": "[encoded data removed]",
      "text/plain": [
       "<Figure size 432x288 with 1 Axes>"
      ]
     },
     "metadata": {
      "needs_background": "light"
     },
     "output_type": "display_data"
    }
   ],
   "source": [
    "plt.plot(fpr,tpr)\n",
    "plt.plot(fpr,fpr,linestyle='--',color='k')\n",
    "plt.xlabel('False Positive Rate')\n",
    "plt.ylabel('True Positive Rate')\n",
    "plt.title('ROC Curve')"
   ]
  },
  {
   "cell_type": "code",
   "execution_count": 39,
   "metadata": {},
   "outputs": [],
   "source": [
    "from sklearn.metrics import plot_confusion_matrix"
   ]
  },
  {
   "cell_type": "code",
   "execution_count": 42,
   "metadata": {},
   "outputs": [
    {
     "data": {
      "text/html": [
       "<div>\n",
       "<style scoped>\n",
       "    .dataframe tbody tr th:only-of-type {\n",
       "        vertical-align: middle;\n",
       "    }\n",
       "\n",
       "    .dataframe tbody tr th {\n",
       "        vertical-align: top;\n",
       "    }\n",
       "\n",
       "    .dataframe thead th {\n",
       "        text-align: right;\n",
       "    }\n",
       "</style>\n",
       "<table border=\"1\" class=\"dataframe\">\n",
       "  <thead>\n",
       "    <tr style=\"text-align: right;\">\n",
       "      <th></th>\n",
       "      <th>features</th>\n",
       "      <th>churn</th>\n",
       "      <th>rawPrediction</th>\n",
       "      <th>probability</th>\n",
       "      <th>prediction</th>\n",
       "    </tr>\n",
       "  </thead>\n",
       "  <tbody>\n",
       "    <tr>\n",
       "      <th>0</th>\n",
       "      <td>[25.0, 9672.03, 0.0, 5.49, 8.0]</td>\n",
       "      <td>0</td>\n",
       "      <td>[5.058411246307447, -5.058411246307447]</td>\n",
       "      <td>[0.9936844901076958, 0.006315509892304134]</td>\n",
       "      <td>0.0</td>\n",
       "    </tr>\n",
       "    <tr>\n",
       "      <th>1</th>\n",
       "      <td>[26.0, 8939.61, 0.0, 4.54, 7.0]</td>\n",
       "      <td>0</td>\n",
       "      <td>[6.91156995401764, -6.91156995401764]</td>\n",
       "      <td>[0.9990047988204478, 0.0009952011795522138]</td>\n",
       "      <td>0.0</td>\n",
       "    </tr>\n",
       "    <tr>\n",
       "      <th>2</th>\n",
       "      <td>[29.0, 11274.46, 1.0, 4.43, 8.0]</td>\n",
       "      <td>0</td>\n",
       "      <td>[4.5384903283838725, -4.5384903283838725]</td>\n",
       "      <td>[0.9894235255017542, 0.010576474498245805]</td>\n",
       "      <td>0.0</td>\n",
       "    </tr>\n",
       "    <tr>\n",
       "      <th>3</th>\n",
       "      <td>[29.0, 13255.05, 1.0, 4.89, 8.0]</td>\n",
       "      <td>0</td>\n",
       "      <td>[4.121378406981179, -4.121378406981179]</td>\n",
       "      <td>[0.984036818621191, 0.01596318137880903]</td>\n",
       "      <td>0.0</td>\n",
       "    </tr>\n",
       "    <tr>\n",
       "      <th>4</th>\n",
       "      <td>[30.0, 8403.78, 1.0, 4.13, 7.0]</td>\n",
       "      <td>0</td>\n",
       "      <td>[6.220715534045645, -6.220715534045645]</td>\n",
       "      <td>[0.998016121244835, 0.0019838787551648912]</td>\n",
       "      <td>0.0</td>\n",
       "    </tr>\n",
       "    <tr>\n",
       "      <th>5</th>\n",
       "      <td>[30.0, 10183.98, 1.0, 5.14, 9.0]</td>\n",
       "      <td>0</td>\n",
       "      <td>[2.8533233218640888, -2.8533233218640888]</td>\n",
       "      <td>[0.9454902154988308, 0.05450978450116926]</td>\n",
       "      <td>0.0</td>\n",
       "    </tr>\n",
       "    <tr>\n",
       "      <th>6</th>\n",
       "      <td>[30.0, 10960.52, 1.0, 5.96, 9.0]</td>\n",
       "      <td>0</td>\n",
       "      <td>[2.34321738025276, -2.34321738025276]</td>\n",
       "      <td>[0.912393596720317, 0.08760640327968308]</td>\n",
       "      <td>0.0</td>\n",
       "    </tr>\n",
       "    <tr>\n",
       "      <th>7</th>\n",
       "      <td>[30.0, 12788.37, 0.0, 4.31, 10.0]</td>\n",
       "      <td>0</td>\n",
       "      <td>[2.4729410654229937, -2.4729410654229937]</td>\n",
       "      <td>[0.922222983019071, 0.077777016980929]</td>\n",
       "      <td>0.0</td>\n",
       "    </tr>\n",
       "    <tr>\n",
       "      <th>8</th>\n",
       "      <td>[30.0, 13473.35, 0.0, 3.84, 10.0]</td>\n",
       "      <td>0</td>\n",
       "      <td>[2.6695317343018417, -2.6695317343018417]</td>\n",
       "      <td>[0.935204661724413, 0.06479533827558702]</td>\n",
       "      <td>0.0</td>\n",
       "    </tr>\n",
       "    <tr>\n",
       "      <th>9</th>\n",
       "      <td>[31.0, 5304.6, 0.0, 5.29, 9.0]</td>\n",
       "      <td>0</td>\n",
       "      <td>[3.8526638669261573, -3.8526638669261573]</td>\n",
       "      <td>[0.9792179348879895, 0.020782065112010563]</td>\n",
       "      <td>0.0</td>\n",
       "    </tr>\n",
       "  </tbody>\n",
       "</table>\n",
       "</div>"
      ],
      "text/plain": [
       "                            features  churn  \\\n",
       "0    [25.0, 9672.03, 0.0, 5.49, 8.0]      0   \n",
       "1    [26.0, 8939.61, 0.0, 4.54, 7.0]      0   \n",
       "2   [29.0, 11274.46, 1.0, 4.43, 8.0]      0   \n",
       "3   [29.0, 13255.05, 1.0, 4.89, 8.0]      0   \n",
       "4    [30.0, 8403.78, 1.0, 4.13, 7.0]      0   \n",
       "5   [30.0, 10183.98, 1.0, 5.14, 9.0]      0   \n",
       "6   [30.0, 10960.52, 1.0, 5.96, 9.0]      0   \n",
       "7  [30.0, 12788.37, 0.0, 4.31, 10.0]      0   \n",
       "8  [30.0, 13473.35, 0.0, 3.84, 10.0]      0   \n",
       "9     [31.0, 5304.6, 0.0, 5.29, 9.0]      0   \n",
       "\n",
       "                               rawPrediction  \\\n",
       "0    [5.058411246307447, -5.058411246307447]   \n",
       "1      [6.91156995401764, -6.91156995401764]   \n",
       "2  [4.5384903283838725, -4.5384903283838725]   \n",
       "3    [4.121378406981179, -4.121378406981179]   \n",
       "4    [6.220715534045645, -6.220715534045645]   \n",
       "5  [2.8533233218640888, -2.8533233218640888]   \n",
       "6      [2.34321738025276, -2.34321738025276]   \n",
       "7  [2.4729410654229937, -2.4729410654229937]   \n",
       "8  [2.6695317343018417, -2.6695317343018417]   \n",
       "9  [3.8526638669261573, -3.8526638669261573]   \n",
       "\n",
       "                                   probability  prediction  \n",
       "0   [0.9936844901076958, 0.006315509892304134]         0.0  \n",
       "1  [0.9990047988204478, 0.0009952011795522138]         0.0  \n",
       "2   [0.9894235255017542, 0.010576474498245805]         0.0  \n",
       "3     [0.984036818621191, 0.01596318137880903]         0.0  \n",
       "4   [0.998016121244835, 0.0019838787551648912]         0.0  \n",
       "5    [0.9454902154988308, 0.05450978450116926]         0.0  \n",
       "6     [0.912393596720317, 0.08760640327968308]         0.0  \n",
       "7       [0.922222983019071, 0.077777016980929]         0.0  \n",
       "8     [0.935204661724413, 0.06479533827558702]         0.0  \n",
       "9   [0.9792179348879895, 0.020782065112010563]         0.0  "
      ]
     },
     "execution_count": 42,
     "metadata": {},
     "output_type": "execute_result"
    }
   ],
   "source": [
    "dfg.head(10)"
   ]
  },
  {
   "cell_type": "code",
   "execution_count": 47,
   "metadata": {},
   "outputs": [],
   "source": [
    "from sklearn import metrics"
   ]
  },
  {
   "cell_type": "code",
   "execution_count": 50,
   "metadata": {},
   "outputs": [],
   "source": [
    "import pandas as pd"
   ]
  },
  {
   "cell_type": "code",
   "execution_count": 48,
   "metadata": {},
   "outputs": [],
   "source": [
    "cnf_matrix = metrics.confusion_matrix(dfg['churn'], dfg['prediction'])"
   ]
  },
  {
   "cell_type": "code",
   "execution_count": 51,
   "metadata": {},
   "outputs": [
    {
     "data": {
      "text/plain": [
       "Text(0.5, 257.44, 'Predicted label')"
      ]
     },
     "execution_count": 51,
     "metadata": {},
     "output_type": "execute_result"
    },
    {
     "data": {
      "image/png": "[encoded data removed]",
      "text/plain": [
       "<Figure size 432x288 with 2 Axes>"
      ]
     },
     "metadata": {
      "needs_background": "light"
     },
     "output_type": "display_data"
    }
   ],
   "source": [
    "class_names=[1,2,3,4,5] # name  of classes\n",
    "fig, ax = plt.subplots()\n",
    "# create heatmap\n",
    "sns.heatmap(pd.DataFrame(cnf_matrix), annot=True, cmap=\"YlGnBu\" ,fmt='g')\n",
    "ax.xaxis.set_label_position(\"top\")\n",
    "ax.xaxis.set_ticklabels(class_names)\n",
    "ax.yaxis.set_ticklabels(class_names)\n",
    "plt.tight_layout()\n",
    "plt.title('Confusion matrix', y=1.1)\n",
    "plt.ylabel('Actual label')\n",
    "plt.xlabel('Predicted label')"
   ]
  },
  {
   "cell_type": "markdown",
   "metadata": {},
   "source": [
    "### Predict on brand new unlabeled data\n",
    "\n",
    "We still need to evaluate the new_customers.csv file!"
   ]
  },
  {
   "cell_type": "code",
   "execution_count": 24,
   "metadata": {},
   "outputs": [],
   "source": [
    "final_lr_model = lr_churn.fit(final_data)"
   ]
  },
  {
   "cell_type": "code",
   "execution_count": 25,
   "metadata": {},
   "outputs": [],
   "source": [
    "new_customers = spark.read.csv('new_customers.csv',inferSchema=True,\n",
    "                              header=True)"
   ]
  },
  {
   "cell_type": "code",
   "execution_count": 26,
   "metadata": {},
   "outputs": [
    {
     "name": "stdout",
     "output_type": "stream",
     "text": [
      "root\n",
      " |-- Names: string (nullable = true)\n",
      " |-- Age: double (nullable = true)\n",
      " |-- Total_Purchase: double (nullable = true)\n",
      " |-- Account_Manager: integer (nullable = true)\n",
      " |-- Years: double (nullable = true)\n",
      " |-- Num_Sites: double (nullable = true)\n",
      " |-- Onboard_date: timestamp (nullable = true)\n",
      " |-- Location: string (nullable = true)\n",
      " |-- Company: string (nullable = true)\n",
      "\n"
     ]
    }
   ],
   "source": [
    "new_customers.printSchema()"
   ]
  },
  {
   "cell_type": "code",
   "execution_count": 27,
   "metadata": {},
   "outputs": [],
   "source": [
    "test_new_customers = assembler.transform(new_customers)"
   ]
  },
  {
   "cell_type": "code",
   "execution_count": 28,
   "metadata": {},
   "outputs": [
    {
     "name": "stdout",
     "output_type": "stream",
     "text": [
      "root\n",
      " |-- Names: string (nullable = true)\n",
      " |-- Age: double (nullable = true)\n",
      " |-- Total_Purchase: double (nullable = true)\n",
      " |-- Account_Manager: integer (nullable = true)\n",
      " |-- Years: double (nullable = true)\n",
      " |-- Num_Sites: double (nullable = true)\n",
      " |-- Onboard_date: timestamp (nullable = true)\n",
      " |-- Location: string (nullable = true)\n",
      " |-- Company: string (nullable = true)\n",
      " |-- features: vector (nullable = true)\n",
      "\n"
     ]
    }
   ],
   "source": [
    "test_new_customers.printSchema()"
   ]
  },
  {
   "cell_type": "code",
   "execution_count": 29,
   "metadata": {},
   "outputs": [],
   "source": [
    "final_results = final_lr_model.transform(test_new_customers)"
   ]
  },
  {
   "cell_type": "code",
   "execution_count": 30,
   "metadata": {},
   "outputs": [
    {
     "name": "stdout",
     "output_type": "stream",
     "text": [
      "+----------------+----------+\n",
      "|         Company|prediction|\n",
      "+----------------+----------+\n",
      "|        King Ltd|       0.0|\n",
      "|   Cannon-Benson|       1.0|\n",
      "|Barron-Robertson|       1.0|\n",
      "|   Sexton-Golden|       1.0|\n",
      "|        Wood LLC|       0.0|\n",
      "|   Parks-Robbins|       1.0|\n",
      "+----------------+----------+\n",
      "\n"
     ]
    }
   ],
   "source": [
    "final_results.select('Company','prediction').show()"
   ]
  },
  {
   "cell_type": "markdown",
   "metadata": {},
   "source": [
    "Ok! That is it! Now we know that we should assign Acocunt Managers to Cannon-Benson,Barron-Robertson,Sexton-GOlden, and Parks-Robbins!"
   ]
  },
  {
   "cell_type": "code",
   "execution_count": null,
   "metadata": {},
   "outputs": [],
   "source": []
  }
 ],
 "metadata": {
  "kernelspec": {
   "display_name": "Python 3",
   "language": "python",
   "name": "python3"
  },
  "language_info": {
   "codemirror_mode": {
    "name": "ipython",
    "version": 3
   },
   "file_extension": ".py",
   "mimetype": "text/x-python",
   "name": "python",
   "nbconvert_exporter": "python",
   "pygments_lexer": "ipython3",
   "version": "3.6.9"
  }
 },
 "nbformat": 4,
 "nbformat_minor": 4
}
